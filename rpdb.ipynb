{
 "cells": [
  {
   "cell_type": "code",
   "execution_count": null,
   "metadata": {},
   "outputs": [],
   "source": []
  },
  {
   "attachments": {},
   "cell_type": "markdown",
   "metadata": {},
   "source": [
    "Original Code (as of 5/13/23)"
   ]
  },
  {
   "cell_type": "code",
   "execution_count": 56,
   "metadata": {},
   "outputs": [
    {
     "name": "stdout",
     "output_type": "stream",
     "text": [
      "File read...\n",
      "Mesh read...\n",
      "There are 9 columns in the mesh\n",
      "There are 9 rows in the mesh\n",
      "Mesh X is 47.75nm\n",
      "Mesh Y is 61.25nm\n",
      "Top cell chosen, entering loop...\n"
     ]
    },
    {
     "name": "stderr",
     "output_type": "stream",
     "text": [
      "100%|██████████| 8/8 [00:00<00:00, 25.75it/s]\n",
      "100%|██████████| 8/8 [00:00<00:00,  8.78it/s]\n",
      "100%|██████████| 8/8 [00:01<00:00,  6.94it/s]\n",
      "100%|██████████| 8/8 [00:00<00:00, 29.96it/s]\n",
      "100%|██████████| 8/8 [00:01<00:00,  5.85it/s]\n",
      "100%|██████████| 8/8 [00:00<00:00, 14.32it/s]\n",
      "100%|██████████| 8/8 [00:00<00:00,  9.16it/s]\n",
      "100%|██████████| 8/8 [00:01<00:00,  5.40it/s]\n",
      "100%|██████████| 8/8 [00:06<00:00,  1.15it/s]"
     ]
    },
    {
     "name": "stdout",
     "output_type": "stream",
     "text": [
      "Finished Mesh Loop\n"
     ]
    },
    {
     "name": "stderr",
     "output_type": "stream",
     "text": [
      "\n"
     ]
    },
    {
     "data": {
      "text/plain": [
       "<klayout.dbcore.Layout at 0x1e7d35e6d50>"
      ]
     },
     "execution_count": 56,
     "metadata": {},
     "output_type": "execute_result"
    }
   ],
   "source": [
    "#Import the needed modules\n",
    "import klayout.db as db\n",
    "import pandas as pd\n",
    "from tqdm import tqdm\n",
    "\n",
    "#Define the function\n",
    "def rpdb(gds_file:str = 'Fighting_polygon_array.gds', mesh:str = 'fibo_mesh.csv', target_layer:int = 0, LL:list=(0,0), UR:list=(382, 490),output_file:str = 'Test RDP.gds'):\n",
    "    #gds is the input gds, and mesh is the matrix of data biasing to be applied, target_layer is the specific layer to be biased\n",
    "    #LL is the lower left corner of the layer to be edited that contains structures, UR is the upper right corner (in um)\n",
    "    #Will hardcode these for now for testing purposes\n",
    "\n",
    "    #Import the .gds\n",
    "    gds = db.Layout()\n",
    "    gds.read(gds_file)\n",
    "    print('File read...')\n",
    "\n",
    "    #Sets the database units as 1nm\n",
    "    gds.dbu = 0.001\n",
    "\n",
    "    #Hard coding layer levels (this can be improved in the future...)\n",
    "    bias_lyr_index = 42\n",
    "    final_lyr_index = 43\n",
    "\n",
    "    #Create bias layer for eventual use\n",
    "    bias_lyr = gds.layer(bias_lyr_index,0,'Initial Biasing Layer')\n",
    "\n",
    "    #Create final bias layer\n",
    "    final_lyr = gds.layer(final_lyr_index,0,'Final Biased Layer')\n",
    "\n",
    "    #Import the mesh\n",
    "    pdb = pd.read_csv(mesh, index_col=0)\n",
    "    print('Mesh read...')\n",
    "\n",
    "    #Determine mesh columns\n",
    "    col_len = len(pdb.columns)+1\n",
    "    columns = range(1,col_len)\n",
    "    print(f'There are {col_len} columns in the mesh')\n",
    "\n",
    "    #Determine mesh rows\n",
    "    row_len = len(pdb)+1\n",
    "    rows = range(1,row_len)\n",
    "    print(f'There are {row_len} rows in the mesh')\n",
    "\n",
    "    #Determine layer sizing\n",
    "    x_size = UR[0] - LL[0]\n",
    "    y_size = UR[1] - LL[1]\n",
    "\n",
    "    #Define size of meshing\n",
    "    mesh_x = x_size / (len(columns))\n",
    "    mesh_y = y_size / (len(rows))\n",
    "    print(f'Mesh X is {mesh_x}nm')\n",
    "    print(f'Mesh Y is {mesh_y}nm')\n",
    "\n",
    "    #Calls the top cell (assumes(!) there is one top cell and it contains all the constituent cells)\n",
    "    top_cell = gds.top_cell()\n",
    "    print('Top cell chosen, entering loop...')\n",
    "\n",
    "    #Loop across the mesh, define the regions in the copy layer to copy into the bias layer, then resize the features in the bias layer based on the mesh input\n",
    "    for i in tqdm(rows):\n",
    "        for j in tqdm(columns):\n",
    "                #Define the edges of the mesh at each location\n",
    "                l_edge = LL[0]+mesh_x*(j-1)\n",
    "                b_edge = UR[1]-mesh_y*i\n",
    "                r_edge = LL[0]+mesh_x*j\n",
    "                t_edge = UR[1]-mesh_y*(i-1)\n",
    "\n",
    "                #Define the biasing at each location\n",
    "                new_j = str(j)\n",
    "                biasing = pdb[new_j][i]\n",
    "\n",
    "                #Takes polygons from the copy layer in a given search region to keep in the \"touching\" pya.Region \n",
    "                search_region = db.DBox(l_edge,b_edge,r_edge,t_edge)\n",
    "                touching = db.Region(top_cell.begin_shapes_rec_touching(target_layer, search_region))\n",
    "\n",
    "                #Biases \"touching\" and copies it into the top cell in the bias layer\n",
    "                touch_up = touching.sized(int(biasing))\n",
    "                top_cell.shapes(bias_lyr).insert(touch_up)\n",
    "                \n",
    "    \n",
    "    print(\"Finished Mesh Loop\")\n",
    "\n",
    "    #Merges any overlapping polygons and places the final biased data onto the \"final\" layer\n",
    "    bias_merge = db.Region(top_cell.begin_shapes_rec_touching(bias_lyr,db.DBox(LL[0],LL[1],UR[0],UR[1])))\n",
    "    bias_merge.merge()\n",
    "    top_cell.shapes(final_lyr).insert(bias_merge)\n",
    "\n",
    "    #Removes unneeded bias layer from the layout\n",
    "    gds.clear_layer(bias_lyr)\n",
    "    \n",
    "\n",
    "    #Writes the new file\n",
    "    return gds.write(output_file)\n",
    "\n",
    "\n",
    "\n",
    "\n",
    "rpdb()"
   ]
  },
  {
   "cell_type": "code",
   "execution_count": 59,
   "metadata": {},
   "outputs": [
    {
     "ename": "NameError",
     "evalue": "name 'top_cell' is not defined",
     "output_type": "error",
     "traceback": [
      "\u001b[1;31m---------------------------------------------------------------------------\u001b[0m",
      "\u001b[1;31mNameError\u001b[0m                                 Traceback (most recent call last)",
      "Cell \u001b[1;32mIn[59], line 1\u001b[0m\n\u001b[1;32m----> 1\u001b[0m top_cell\u001b[39m.\u001b[39mkeys()\n",
      "\u001b[1;31mNameError\u001b[0m: name 'top_cell' is not defined"
     ]
    }
   ],
   "source": [
    "top_cell.keys()"
   ]
  },
  {
   "attachments": {},
   "cell_type": "markdown",
   "metadata": {},
   "source": [
    "New Test (w/ clips) (updated 5/13/23)"
   ]
  },
  {
   "cell_type": "code",
   "execution_count": 88,
   "metadata": {},
   "outputs": [
    {
     "name": "stdout",
     "output_type": "stream",
     "text": [
      "File read...\n",
      "Mesh read...\n",
      "There are 9 columns in the mesh\n",
      "There are 9 rows in the mesh\n",
      "Mesh X is 12437.5nm\n",
      "Mesh Y is 12492.25nm\n",
      "The called cell indicies are: [0, 1, 2, 3]\n",
      "Top cell chosen, entering loop...\n"
     ]
    },
    {
     "name": "stderr",
     "output_type": "stream",
     "text": [
      "  0%|          | 0/8 [00:00<?, ?it/s]"
     ]
    },
    {
     "name": "stdout",
     "output_type": "stream",
     "text": [
      "Bias cell tree indicies are [10, 11, 12, 13, 14, 15, 16]\n",
      "Biasing is 1\n",
      "Bias cell tree indicies are [26, 27, 28, 29, 30, 31, 32, 33, 34, 35, 36]\n",
      "Biasing is 1\n",
      "Bias cell tree indicies are [44, 45, 46, 47, 48, 49, 50, 51, 52]\n",
      "Biasing is 2\n",
      "Bias cell tree indicies are [58, 59, 60, 61, 62, 63, 64]\n",
      "Biasing is 3\n",
      "Bias cell tree indicies are [81, 82, 83, 84, 85, 86, 87, 88, 89, 90, 91, 92, 93, 94, 95, 96, 97, 98]\n",
      "Biasing is 5\n",
      "Bias cell tree indicies are [108, 109, 110, 111, 112, 113, 114, 115, 116, 117, 118]\n",
      "Biasing is 8\n"
     ]
    },
    {
     "name": "stderr",
     "output_type": "stream",
     "text": [
      " 12%|█▎        | 1/8 [00:00<00:02,  2.49it/s]"
     ]
    },
    {
     "name": "stdout",
     "output_type": "stream",
     "text": [
      "Bias cell tree indicies are [130, 131, 132, 133, 134, 135, 136, 137, 138, 139, 140, 141, 142]\n",
      "Biasing is 13\n",
      "Bias cell tree indicies are [161, 162, 163, 164, 165, 166, 167, 168, 169, 170, 171, 172, 173, 174, 175, 176, 177, 178, 179, 180]\n",
      "Biasing is 21\n",
      "Bias cell tree indicies are [185, 186, 187, 188, 189, 190]\n",
      "Biasing is 1\n",
      "Bias cell tree indicies are [199, 200, 201, 202, 203, 204, 205, 206, 207, 208]\n",
      "Biasing is -1\n",
      "Bias cell tree indicies are [215, 216, 217, 218, 219, 220, 221, 222]\n",
      "Biasing is 2\n",
      "Bias cell tree indicies are [227, 228, 229, 230, 231, 232]\n",
      "Biasing is 3\n",
      "Bias cell tree indicies are [247, 248, 249, 250, 251, 252, 253, 254, 255, 256, 257, 258, 259, 260, 261, 262]\n",
      "Biasing is 5\n",
      "Bias cell tree indicies are [271, 272, 273, 274, 275, 276, 277, 278, 279, 280]\n",
      "Biasing is 8\n",
      "Bias cell tree indicies are [290, 291, 292, 293, 294, 295, 296, 297, 298, 299, 300]\n",
      "Biasing is 13\n"
     ]
    },
    {
     "name": "stderr",
     "output_type": "stream",
     "text": [
      " 25%|██▌       | 2/8 [00:01<00:03,  1.52it/s]"
     ]
    },
    {
     "name": "stdout",
     "output_type": "stream",
     "text": [
      "Bias cell tree indicies are [316, 317, 318, 319, 320, 321, 322, 323, 324, 325, 326, 327, 328, 329, 330, 331, 332]\n",
      "Biasing is 21\n",
      "Bias cell tree indicies are [338, 339, 340, 341, 342, 343, 344]\n",
      "Biasing is 2\n",
      "Bias cell tree indicies are [354, 355, 356, 357, 358, 359, 360, 361, 362, 363, 364]\n",
      "Biasing is 0\n",
      "Bias cell tree indicies are [372, 373, 374, 375, 376, 377, 378, 379, 380]\n",
      "Biasing is -2\n",
      "Bias cell tree indicies are [386, 387, 388, 389, 390, 391, 392]\n",
      "Biasing is 6\n",
      "Bias cell tree indicies are [409, 410, 411, 412, 413, 414, 415, 416, 417, 418, 419, 420, 421, 422, 423, 424, 425, 426]\n",
      "Biasing is 10\n",
      "Bias cell tree indicies are [436, 437, 438, 439, 440, 441, 442, 443, 444, 445, 446]\n",
      "Biasing is 16\n"
     ]
    },
    {
     "name": "stderr",
     "output_type": "stream",
     "text": [
      " 38%|███▊      | 3/8 [00:02<00:04,  1.14it/s]"
     ]
    },
    {
     "name": "stdout",
     "output_type": "stream",
     "text": [
      "Bias cell tree indicies are [457, 458, 459, 460, 461, 462, 463, 464, 465, 466, 467, 468]\n",
      "Biasing is 26\n",
      "Bias cell tree indicies are [486, 487, 488, 489, 490, 491, 492, 493, 494, 495, 496, 497, 498, 499, 500, 501, 502, 503, 504]\n",
      "Biasing is 41\n",
      "Bias cell tree indicies are [512, 513, 514, 515, 516, 517, 518, 519, 520]\n",
      "Biasing is 3\n",
      "Bias cell tree indicies are [534, 535, 536, 537, 538, 539, 540, 541, 542, 543, 544, 545, 546, 547, 548]\n",
      "Biasing is -1\n",
      "Bias cell tree indicies are [559, 560, 561, 562, 563, 564, 565, 566, 567, 568, 569, 570]\n",
      "Biasing is 0\n",
      "Bias cell tree indicies are [578, 579, 580, 581, 582, 583, 584, 585, 586]\n",
      "Biasing is -3\n",
      "Bias cell tree indicies are [609, 610, 611, 612, 613, 614, 615, 616, 617, 618, 619, 620, 621, 622, 623, 624, 625, 626, 627, 628, 629, 630, 631, 632]\n",
      "Biasing is 15\n",
      "Bias cell tree indicies are [646, 647, 648, 649, 650, 651, 652, 653, 654, 655, 656, 657, 658, 659, 660]\n",
      "Biasing is 24\n",
      "Bias cell tree indicies are [675, 676, 677, 678, 679, 680, 681, 682, 683, 684, 685, 686, 687, 688, 689, 690]\n",
      "Biasing is 39\n"
     ]
    },
    {
     "name": "stderr",
     "output_type": "stream",
     "text": [
      " 50%|█████     | 4/8 [00:03<00:04,  1.14s/it]"
     ]
    },
    {
     "name": "stdout",
     "output_type": "stream",
     "text": [
      "Bias cell tree indicies are [714, 715, 716, 717, 718, 719, 720, 721, 722, 723, 724, 725, 726, 727, 728, 729, 730, 731, 732, 733, 734, 735, 736, 737, 738]\n",
      "Biasing is 21\n",
      "Bias cell tree indicies are [744, 745, 746, 747, 748, 749, 750]\n",
      "Biasing is 5\n",
      "Bias cell tree indicies are [761, 762, 763, 764, 765, 766, 767, 768, 769, 770, 771, 772]\n",
      "Biasing is -1\n",
      "Bias cell tree indicies are [781, 782, 783, 784, 785, 786, 787, 788, 789, 790]\n",
      "Biasing is -2\n",
      "Bias cell tree indicies are [796, 797, 798, 799, 800, 801, 802]\n",
      "Biasing is 3\n",
      "Bias cell tree indicies are [820, 821, 822, 823, 824, 825, 826, 827, 828, 829, 830, 831, 832, 833, 834, 835, 836, 837, 838]\n",
      "Biasing is -5\n",
      "Bias cell tree indicies are [849, 850, 851, 852, 853, 854, 855, 856, 857, 858, 859, 860]\n",
      "Biasing is 40\n",
      "Bias cell tree indicies are [872, 873, 874, 875, 876, 877, 878, 879, 880, 881, 882, 883, 884]\n",
      "Biasing is 26\n"
     ]
    },
    {
     "name": "stderr",
     "output_type": "stream",
     "text": [
      " 62%|██████▎   | 5/8 [00:05<00:04,  1.42s/it]"
     ]
    },
    {
     "name": "stdout",
     "output_type": "stream",
     "text": [
      "Bias cell tree indicies are [903, 904, 905, 906, 907, 908, 909, 910, 911, 912, 913, 914, 915, 916, 917, 918, 919, 920, 921, 922]\n",
      "Biasing is 21\n",
      "Bias cell tree indicies are [926, 927, 928, 929, 930]\n",
      "Biasing is 8\n",
      "Bias cell tree indicies are [937, 938, 939, 940, 941, 942, 943, 944]\n",
      "Biasing is -2\n",
      "Bias cell tree indicies are [950, 951, 952, 953, 954, 955, 956]\n",
      "Biasing is -2\n",
      "Bias cell tree indicies are [960, 961, 962, 963, 964]\n",
      "Biasing is 0\n",
      "Bias cell tree indicies are [976, 977, 978, 979, 980, 981, 982, 983, 984, 985, 986, 987, 988]\n",
      "Biasing is 10\n",
      "Bias cell tree indicies are [995, 996, 997, 998, 999, 1000, 1001, 1002]\n",
      "Biasing is -8\n",
      "Bias cell tree indicies are [1010, 1011, 1012, 1013, 1014, 1015, 1016, 1017, 1018]\n",
      "Biasing is 13\n"
     ]
    },
    {
     "name": "stderr",
     "output_type": "stream",
     "text": [
      " 75%|███████▌  | 6/8 [00:08<00:03,  1.70s/it]"
     ]
    },
    {
     "name": "stdout",
     "output_type": "stream",
     "text": [
      "Bias cell tree indicies are [1031, 1032, 1033, 1034, 1035, 1036, 1037, 1038, 1039, 1040, 1041, 1042, 1043, 1044]\n",
      "Biasing is 21\n",
      "Bias cell tree indicies are [1050, 1051, 1052, 1053, 1054, 1055, 1056]\n",
      "Biasing is 13\n",
      "Bias cell tree indicies are [1066, 1067, 1068, 1069, 1070, 1071, 1072, 1073, 1074, 1075, 1076]\n",
      "Biasing is -3\n",
      "Bias cell tree indicies are [1084, 1085, 1086, 1087, 1088, 1089, 1090, 1091, 1092]\n",
      "Biasing is -4\n",
      "Bias cell tree indicies are [1098, 1099, 1100, 1101, 1102, 1103, 1104]\n",
      "Biasing is 3\n",
      "Bias cell tree indicies are [1120, 1121, 1122, 1123, 1124, 1125, 1126, 1127, 1128, 1129, 1130, 1131, 1132, 1133, 1134, 1135, 1136]\n",
      "Biasing is 5\n",
      "Bias cell tree indicies are [1146, 1147, 1148, 1149, 1150, 1151, 1152, 1153, 1154, 1155, 1156]\n",
      "Biasing is 32\n"
     ]
    },
    {
     "name": "stderr",
     "output_type": "stream",
     "text": [
      " 88%|████████▊ | 7/8 [00:10<00:02,  2.01s/it]"
     ]
    },
    {
     "name": "stdout",
     "output_type": "stream",
     "text": [
      "Bias cell tree indicies are [1167, 1168, 1169, 1170, 1171, 1172, 1173, 1174, 1175, 1176, 1177, 1178]\n",
      "Biasing is -13\n",
      "Bias cell tree indicies are [1195, 1196, 1197, 1198, 1199, 1200, 1201, 1202, 1203, 1204, 1205, 1206, 1207, 1208, 1209, 1210, 1211, 1212]\n",
      "Biasing is 21\n",
      "Bias cell tree indicies are [1218, 1219, 1220, 1221, 1222, 1223, 1224]\n",
      "Biasing is 21\n",
      "Bias cell tree indicies are [1234, 1235, 1236, 1237, 1238, 1239, 1240, 1241, 1242, 1243, 1244]\n",
      "Biasing is -5\n",
      "Bias cell tree indicies are [1252, 1253, 1254, 1255, 1256, 1257, 1258, 1259, 1260]\n",
      "Biasing is -6\n",
      "Bias cell tree indicies are [1266, 1267, 1268, 1269, 1270, 1271, 1272]\n",
      "Biasing is 6\n",
      "Bias cell tree indicies are [1289, 1290, 1291, 1292, 1293, 1294, 1295, 1296, 1297, 1298, 1299, 1300, 1301, 1302, 1303, 1304, 1305, 1306]\n",
      "Biasing is 15\n",
      "Bias cell tree indicies are [1316, 1317, 1318, 1319, 1320, 1321, 1322, 1323, 1324, 1325, 1326]\n",
      "Biasing is 24\n",
      "Bias cell tree indicies are [1338, 1339, 1340, 1341, 1342, 1343, 1344, 1345, 1346, 1347, 1348, 1349, 1350]\n",
      "Biasing is 13\n"
     ]
    },
    {
     "name": "stderr",
     "output_type": "stream",
     "text": [
      "100%|██████████| 8/8 [00:13<00:00,  1.73s/it]"
     ]
    },
    {
     "name": "stdout",
     "output_type": "stream",
     "text": [
      "Bias cell tree indicies are [1369, 1370, 1371, 1372, 1373, 1374, 1375, 1376, 1377, 1378, 1379, 1380, 1381, 1382, 1383, 1384, 1385, 1386, 1387, 1388]\n",
      "Biasing is -21\n",
      "Finished Mesh Loop\n"
     ]
    },
    {
     "name": "stderr",
     "output_type": "stream",
     "text": [
      "\n"
     ]
    },
    {
     "data": {
      "text/plain": [
       "<klayout.dbcore.Layout at 0x1e7d9f186d0>"
      ]
     },
     "execution_count": 88,
     "metadata": {},
     "output_type": "execute_result"
    }
   ],
   "source": [
    "#Import the needed modules\n",
    "import klayout.db as db\n",
    "import pandas as pd\n",
    "from tqdm import tqdm\n",
    "\n",
    "#Define the function\n",
    "def rpdb(gds_file:str = 'Fighting_polygon_array.gds', mesh:str = 'fibo_mesh.csv', target_layer:int = 0, LL:list=(0,0), UR:list=(99500, 99938),output_file:str = 'Test RDP.gds'):\n",
    "    #gds is the input gds, and mesh is the matrix of data biasing to be applied, target_layer is the specific layer to be biased\n",
    "    #LL is the lower left corner of the layer to be edited that contains structures, UR is the upper right corner (in um)\n",
    "    #Will hardcode these for now for testing purposes\n",
    "\n",
    "    #Actual extents for test: 99950, 99938\n",
    "\n",
    "    #Import the .gds\n",
    "    gds = db.Layout()\n",
    "    gds.read(gds_file)\n",
    "    print('File read...')\n",
    "\n",
    "    #Sets the database units as 1nm\n",
    "    gds.dbu = 0.001\n",
    "\n",
    "    #Hard coding layer levels (this can be improved in the future...)\n",
    "    bias_lyr_index = 49\n",
    "    \n",
    "    #Create bias layer for eventual use\n",
    "    bias_lyr = gds.layer(bias_lyr_index,0,'Initial Biasing Layer')\n",
    "\n",
    "    #Import the mesh\n",
    "    pdb = pd.read_csv(mesh, index_col=0)\n",
    "    print('Mesh read...')\n",
    "\n",
    "    #Determine maximum absolute bias applied, in order to size up the cell regions\n",
    "    mesh_max = pdb.max().max()\n",
    "    mesh_min = pdb.min().min()\n",
    "    if abs(mesh_max) >= abs(mesh_min):\n",
    "         bias_max = mesh_max\n",
    "    else:\n",
    "         bias_max = abs(mesh_min)\n",
    "\n",
    "    #Determine mesh columns\n",
    "    col_len = len(pdb.columns)+1\n",
    "    columns = range(1,col_len)\n",
    "    print(f'There are {col_len} columns in the mesh')\n",
    "\n",
    "    #Determine mesh rows\n",
    "    row_len = len(pdb)+1\n",
    "    rows = range(1,row_len)\n",
    "    print(f'There are {row_len} rows in the mesh')\n",
    "\n",
    "    #Determine layer sizing\n",
    "    x_size = UR[0] - LL[0]\n",
    "    y_size = UR[1] - LL[1]\n",
    "\n",
    "    #Define size of meshing\n",
    "    mesh_x = x_size / (len(columns))\n",
    "    mesh_y = y_size / (len(rows))\n",
    "    print(f'Mesh X is {mesh_x}nm')\n",
    "    print(f'Mesh Y is {mesh_y}nm')\n",
    "\n",
    "    #Calls the top cell (assumes(!) there is one top cell and it contains all the constituent cells) and stores index of all called cells\n",
    "    top_cell = gds.top_cell()\n",
    "    top_cell_index = top_cell.cell_index()\n",
    "    called_cells = top_cell.called_cells()\n",
    "    print(f'The called cell indicies are: {called_cells}')\n",
    "    print('Top cell chosen, entering loop...')\n",
    "\n",
    "    #Loop across the mesh, define the regions in the copy layer to copy into the bias layer, then resize the features in the bias layer based on the mesh input\n",
    "    for i in tqdm(rows):\n",
    "        for j in columns:\n",
    "                #Define the edges of the mesh at each location\n",
    "                l_edge = LL[0]+(mesh_x*(j-1)-bias_max)\n",
    "                b_edge = UR[1]-(mesh_y*i+bias_max)\n",
    "                r_edge = LL[0]+(mesh_x*j+bias_max)\n",
    "                t_edge = UR[1]-(mesh_y*(i-1)-bias_max)\n",
    "\n",
    "                #Define the biasing at each location\n",
    "                new_j = str(j)\n",
    "                biasing = pdb[new_j][i]\n",
    "                #print(f'This is the bias value: {biasing}')\n",
    "\n",
    "                #Clips mesh area from the polygon, preserving hierarchy, and names it\n",
    "                clip = gds.clip(top_cell,db.DBox(l_edge,b_edge,r_edge,t_edge))\n",
    "                clip.name= f'Mesh_Cell_{i}_{j}'\n",
    "                \n",
    "\n",
    "                #Loop to identify each shape and size it up by the bias value amount\n",
    "                #print(f'Clip called cells are: {clip.called_cells()}')\n",
    "\n",
    "                #Copies the cell tree from the clip into a new bias cell\n",
    "                bias_cell = gds.create_cell(f'bias_cell_{i}_{j}')\n",
    "                bias_tree = bias_cell.copy_tree(clip)\n",
    "                print(f'Bias cell tree indicies are {bias_cell.called_cells()}')\n",
    "                print(f'Biasing is {biasing}')\n",
    "\n",
    "                #Goes through the hierarchy of each clip and biases by the appropriate value, and inserts into the bias layer\n",
    "                for k in bias_cell.called_cells():\n",
    "                    copy_cell = gds.cell(k)\n",
    "                    search_region = db.Region(copy_cell.bbox(target_layer))\n",
    "                    shapes_region = db.Region(copy_cell.shapes(target_layer))\n",
    "                    touching = search_region & shapes_region\n",
    "                    bias_apply = touching.sized(int(biasing))\n",
    "                    copy_cell.shapes(bias_lyr).insert(bias_apply)\n",
    "\n",
    "                                    \n",
    "                clip.prune_cell()                    \n",
    "    \n",
    "    print(\"Finished Mesh Loop\")\n",
    "    \n",
    "    #Writes the new file\n",
    "    return gds.write(output_file)\n",
    "\n",
    "rpdb()"
   ]
  },
  {
   "cell_type": "code",
   "execution_count": null,
   "metadata": {},
   "outputs": [],
   "source": []
  }
 ],
 "metadata": {
  "kernelspec": {
   "display_name": "Python 3",
   "language": "python",
   "name": "python3"
  },
  "language_info": {
   "codemirror_mode": {
    "name": "ipython",
    "version": 3
   },
   "file_extension": ".py",
   "mimetype": "text/x-python",
   "name": "python",
   "nbconvert_exporter": "python",
   "pygments_lexer": "ipython3",
   "version": "3.11.3"
  },
  "orig_nbformat": 4
 },
 "nbformat": 4,
 "nbformat_minor": 2
}
