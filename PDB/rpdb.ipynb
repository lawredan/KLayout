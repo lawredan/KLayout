{
 "cells": [
  {
   "cell_type": "code",
   "execution_count": null,
   "metadata": {},
   "outputs": [],
   "source": []
  },
  {
   "attachments": {},
   "cell_type": "markdown",
   "metadata": {},
   "source": [
    "Original Code (as of 5/13/23)"
   ]
  },
  {
   "cell_type": "code",
   "execution_count": 56,
   "metadata": {},
   "outputs": [
    {
     "name": "stdout",
     "output_type": "stream",
     "text": [
      "File read...\n",
      "Mesh read...\n",
      "There are 9 columns in the mesh\n",
      "There are 9 rows in the mesh\n",
      "Mesh X is 47.75nm\n",
      "Mesh Y is 61.25nm\n",
      "Top cell chosen, entering loop...\n"
     ]
    },
    {
     "name": "stderr",
     "output_type": "stream",
     "text": [
      "100%|██████████| 8/8 [00:00<00:00, 25.75it/s]\n",
      "100%|██████████| 8/8 [00:00<00:00,  8.78it/s]\n",
      "100%|██████████| 8/8 [00:01<00:00,  6.94it/s]\n",
      "100%|██████████| 8/8 [00:00<00:00, 29.96it/s]\n",
      "100%|██████████| 8/8 [00:01<00:00,  5.85it/s]\n",
      "100%|██████████| 8/8 [00:00<00:00, 14.32it/s]\n",
      "100%|██████████| 8/8 [00:00<00:00,  9.16it/s]\n",
      "100%|██████████| 8/8 [00:01<00:00,  5.40it/s]\n",
      "100%|██████████| 8/8 [00:06<00:00,  1.15it/s]"
     ]
    },
    {
     "name": "stdout",
     "output_type": "stream",
     "text": [
      "Finished Mesh Loop\n"
     ]
    },
    {
     "name": "stderr",
     "output_type": "stream",
     "text": [
      "\n"
     ]
    },
    {
     "data": {
      "text/plain": [
       "<klayout.dbcore.Layout at 0x1e7d35e6d50>"
      ]
     },
     "execution_count": 56,
     "metadata": {},
     "output_type": "execute_result"
    }
   ],
   "source": [
    "#Import the needed modules\n",
    "import klayout.db as db\n",
    "import pandas as pd\n",
    "from tqdm import tqdm\n",
    "\n",
    "#Define the function\n",
    "def rpdb(gds_file:str = 'Fighting_polygon_array.gds', mesh:str = 'fibo_mesh.csv', target_layer:int = 0, LL:list=(0,0), UR:list=(382, 490),output_file:str = 'Test RDP.gds'):\n",
    "    #gds is the input gds, and mesh is the matrix of data biasing to be applied, target_layer is the specific layer to be biased\n",
    "    #LL is the lower left corner of the layer to be edited that contains structures, UR is the upper right corner (in um)\n",
    "    #Will hardcode these for now for testing purposes\n",
    "\n",
    "    #Import the .gds\n",
    "    gds = db.Layout()\n",
    "    gds.read(gds_file)\n",
    "    print('File read...')\n",
    "\n",
    "    #Sets the database units as 1nm\n",
    "    gds.dbu = 0.001\n",
    "\n",
    "    #Hard coding layer levels (this can be improved in the future...)\n",
    "    bias_lyr_index = 42\n",
    "    final_lyr_index = 43\n",
    "\n",
    "    #Create bias layer for eventual use\n",
    "    bias_lyr = gds.layer(bias_lyr_index,0,'Initial Biasing Layer')\n",
    "\n",
    "    #Create final bias layer\n",
    "    final_lyr = gds.layer(final_lyr_index,0,'Final Biased Layer')\n",
    "\n",
    "    #Import the mesh\n",
    "    pdb = pd.read_csv(mesh, index_col=0)\n",
    "    print('Mesh read...')\n",
    "\n",
    "    #Determine mesh columns\n",
    "    col_len = len(pdb.columns)+1\n",
    "    columns = range(1,col_len)\n",
    "    print(f'There are {col_len} columns in the mesh')\n",
    "\n",
    "    #Determine mesh rows\n",
    "    row_len = len(pdb)+1\n",
    "    rows = range(1,row_len)\n",
    "    print(f'There are {row_len} rows in the mesh')\n",
    "\n",
    "    #Determine layer sizing\n",
    "    x_size = UR[0] - LL[0]\n",
    "    y_size = UR[1] - LL[1]\n",
    "\n",
    "    #Define size of meshing\n",
    "    mesh_x = x_size / (len(columns))\n",
    "    mesh_y = y_size / (len(rows))\n",
    "    print(f'Mesh X is {mesh_x}nm')\n",
    "    print(f'Mesh Y is {mesh_y}nm')\n",
    "\n",
    "    #Calls the top cell (assumes(!) there is one top cell and it contains all the constituent cells)\n",
    "    top_cell = gds.top_cell()\n",
    "    print('Top cell chosen, entering loop...')\n",
    "\n",
    "    #Loop across the mesh, define the regions in the copy layer to copy into the bias layer, then resize the features in the bias layer based on the mesh input\n",
    "    for i in tqdm(rows):\n",
    "        for j in tqdm(columns):\n",
    "                #Define the edges of the mesh at each location\n",
    "                l_edge = LL[0]+mesh_x*(j-1)\n",
    "                b_edge = UR[1]-mesh_y*i\n",
    "                r_edge = LL[0]+mesh_x*j\n",
    "                t_edge = UR[1]-mesh_y*(i-1)\n",
    "\n",
    "                #Define the biasing at each location\n",
    "                new_j = str(j)\n",
    "                biasing = pdb[new_j][i]\n",
    "\n",
    "                #Takes polygons from the copy layer in a given search region to keep in the \"touching\" pya.Region \n",
    "                search_region = db.DBox(l_edge,b_edge,r_edge,t_edge)\n",
    "                touching = db.Region(top_cell.begin_shapes_rec_touching(target_layer, search_region))\n",
    "\n",
    "                #Biases \"touching\" and copies it into the top cell in the bias layer\n",
    "                touch_up = touching.sized(int(biasing))\n",
    "                top_cell.shapes(bias_lyr).insert(touch_up)\n",
    "                \n",
    "    \n",
    "    print(\"Finished Mesh Loop\")\n",
    "\n",
    "    #Merges any overlapping polygons and places the final biased data onto the \"final\" layer\n",
    "    bias_merge = db.Region(top_cell.begin_shapes_rec_touching(bias_lyr,db.DBox(LL[0],LL[1],UR[0],UR[1])))\n",
    "    bias_merge.merge()\n",
    "    top_cell.shapes(final_lyr).insert(bias_merge)\n",
    "\n",
    "    #Removes unneeded bias layer from the layout\n",
    "    gds.clear_layer(bias_lyr)\n",
    "    \n",
    "\n",
    "    #Writes the new file\n",
    "    return gds.write(output_file)\n",
    "\n",
    "\n",
    "\n",
    "\n",
    "rpdb()"
   ]
  },
  {
   "attachments": {},
   "cell_type": "markdown",
   "metadata": {},
   "source": [
    "New Test (w/ clips) (updated 5/13/23)"
   ]
  },
  {
   "cell_type": "code",
   "execution_count": 4,
   "metadata": {},
   "outputs": [
    {
     "name": "stdout",
     "output_type": "stream",
     "text": [
      "File read: Fighting_polygon_array.gds\n",
      "Mesh read: fibo_mesh.csv\n",
      "There are 9 columns in the mesh\n",
      "There are 9 rows in the mesh\n",
      "Mesh X is 12437.5nm\n",
      "Mesh Y is 12492.25nm\n",
      "Top cell chosen, entering loop...\n"
     ]
    },
    {
     "name": "stderr",
     "output_type": "stream",
     "text": [
      "100%|██████████| 8/8 [00:15<00:00,  1.91s/it]\n"
     ]
    },
    {
     "name": "stdout",
     "output_type": "stream",
     "text": [
      "Finished Mesh Loop\n"
     ]
    },
    {
     "data": {
      "text/plain": [
       "<klayout.dbcore.Layout at 0x147a7f202d0>"
      ]
     },
     "execution_count": 4,
     "metadata": {},
     "output_type": "execute_result"
    }
   ],
   "source": [
    "#Import the needed modules\n",
    "import klayout.db as db\n",
    "import pandas as pd\n",
    "from tqdm import tqdm\n",
    "\n",
    "#Define the function\n",
    "def rpdb(gds_file:str = 'Fighting_polygon_array.gds', mesh:str = 'fibo_mesh.csv', target_layer:int = 0, LL:list=(0,0), UR:list=(99500, 99938),output_file:str = 'Test RDP.gds'):\n",
    "    #gds is the input gds, and mesh is the matrix of data biasing to be applied, target_layer is the specific layer to be biased\n",
    "    #LL is the lower left corner of the layer to be edited that contains structures, UR is the upper right corner (in um)\n",
    "    #Will hardcode these for now for testing purposes\n",
    "\n",
    "    #Actual extents for test: 99950, 99938\n",
    "\n",
    "    #Import the .gds\n",
    "    gds = db.Layout()\n",
    "    gds.read(gds_file)\n",
    "    print(f'File read: {gds_file}')\n",
    "\n",
    "    #Sets the database units as 1nm\n",
    "    gds.dbu = 0.001\n",
    "\n",
    "    #Hard coding layer levels (this can be improved in the future...)\n",
    "    bias_lyr_index = 49\n",
    "    \n",
    "    #Create bias layer for eventual use\n",
    "    bias_lyr = gds.layer(bias_lyr_index,0,'Initial Biasing Layer')\n",
    "\n",
    "    #Import the mesh\n",
    "    pdb = pd.read_csv(mesh, index_col=0)\n",
    "    print(f'Mesh read: {mesh}')\n",
    "\n",
    "    #Determine maximum absolute bias applied, in order to size up the cell regions\n",
    "    mesh_max = pdb.max().max()\n",
    "    mesh_min = pdb.min().min()\n",
    "    if abs(mesh_max) >= abs(mesh_min):\n",
    "         bias_max = mesh_max\n",
    "    else:\n",
    "         bias_max = abs(mesh_min)\n",
    "\n",
    "    #Determine mesh columns\n",
    "    col_len = len(pdb.columns)+1\n",
    "    columns = range(1,col_len)\n",
    "    print(f'There are {col_len} columns in the mesh')\n",
    "\n",
    "    #Determine mesh rows\n",
    "    row_len = len(pdb)+1\n",
    "    rows = range(1,row_len)\n",
    "    print(f'There are {row_len} rows in the mesh')\n",
    "\n",
    "    #Determine layer sizing\n",
    "    x_size = UR[0] - LL[0]\n",
    "    y_size = UR[1] - LL[1]\n",
    "\n",
    "    #Define size of meshing\n",
    "    mesh_x = x_size / (len(columns))\n",
    "    mesh_y = y_size / (len(rows))\n",
    "    print(f'Mesh X is {mesh_x}nm')\n",
    "    print(f'Mesh Y is {mesh_y}nm')\n",
    "\n",
    "    #Calls the top cell (assumes(!) there is one top cell and it contains all the constituent cells) and stores index of all called cells\n",
    "    top_cell = gds.top_cell()\n",
    "    top_cell_index = top_cell.cell_index()\n",
    "    called_cells = top_cell.called_cells()\n",
    "    print('Top cell chosen, entering loop...')\n",
    "\n",
    "    #Loop across the mesh, define the regions in the copy layer to copy into the bias layer, then resize the features in the bias layer based on the mesh input\n",
    "    for i in tqdm(rows):\n",
    "        for j in columns:\n",
    "                #Define the edges of the mesh at each location\n",
    "                l_edge = LL[0]+(mesh_x*(j-1)-bias_max)\n",
    "                b_edge = UR[1]-(mesh_y*i+bias_max)\n",
    "                r_edge = LL[0]+(mesh_x*j+bias_max)\n",
    "                t_edge = UR[1]-(mesh_y*(i-1)-bias_max)\n",
    "\n",
    "                #Define the biasing at each location\n",
    "                new_j = str(j)\n",
    "                biasing = pdb[new_j][i]\n",
    "                #print(f'This is the bias value: {biasing}')\n",
    "\n",
    "                #Clips mesh area from the polygon, preserving hierarchy, and names it\n",
    "                clip = gds.clip(top_cell,db.DBox(l_edge,b_edge,r_edge,t_edge))\n",
    "                clip.name= f'Mesh_Cell_{i}_{j}'\n",
    "                \n",
    "\n",
    "                #Loop to identify each shape and size it up by the bias value amount\n",
    "                #print(f'Clip called cells are: {clip.called_cells()}')\n",
    "\n",
    "                #Copies the cell tree from the clip into a new bias cell\n",
    "                bias_cell = gds.create_cell(f'bias_cell_{i}_{j}')\n",
    "                bias_tree = bias_cell.copy_tree(clip)\n",
    "                #print(f'Biasing is {biasing}')\n",
    "\n",
    "                #Goes through the hierarchy of each clip and biases by the appropriate value, and inserts into the bias layer\n",
    "                for k in bias_cell.called_cells():\n",
    "                    copy_cell = gds.cell(k)\n",
    "                    search_region = db.Region(copy_cell.bbox(target_layer))\n",
    "                    shapes_region = db.Region(copy_cell.shapes(target_layer))\n",
    "                    touching = search_region & shapes_region\n",
    "                    bias_apply = touching.sized(int(biasing))\n",
    "                    copy_cell.shapes(bias_lyr).insert(bias_apply)\n",
    "\n",
    "                                    \n",
    "                clip.prune_cell()                    \n",
    "    \n",
    "    print(\"Finished Mesh Loop\")\n",
    "    \n",
    "    #Writes the new file\n",
    "    return gds.write(output_file)\n",
    "\n",
    "rpdb()"
   ]
  },
  {
   "cell_type": "code",
   "execution_count": null,
   "metadata": {},
   "outputs": [],
   "source": []
  }
 ],
 "metadata": {
  "kernelspec": {
   "display_name": "Python 3",
   "language": "python",
   "name": "python3"
  },
  "language_info": {
   "codemirror_mode": {
    "name": "ipython",
    "version": 3
   },
   "file_extension": ".py",
   "mimetype": "text/x-python",
   "name": "python",
   "nbconvert_exporter": "python",
   "pygments_lexer": "ipython3",
   "version": "3.11.3"
  },
  "orig_nbformat": 4
 },
 "nbformat": 4,
 "nbformat_minor": 2
}
