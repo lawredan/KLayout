{
 "cells": [
  {
   "cell_type": "code",
   "execution_count": 2,
   "metadata": {},
   "outputs": [
    {
     "name": "stderr",
     "output_type": "stream",
     "text": [
      "100%|██████████| 16/16 [00:02<00:00,  6.67it/s]\n"
     ]
    },
    {
     "name": "stdout",
     "output_type": "stream",
     "text": [
      "Finished Mesh Loop\n",
      "Finished bias merge\n",
      "Deleted bias layer\n",
      "Deleted copy layer\n"
     ]
    },
    {
     "data": {
      "text/plain": [
       "<klayout.dbcore.Layout at 0x28311440270>"
      ]
     },
     "execution_count": 2,
     "metadata": {},
     "output_type": "execute_result"
    }
   ],
   "source": [
    "#Import the needed modules\n",
    "import klayout as kl\n",
    "import klayout.db as db\n",
    "import pya\n",
    "import pandas as pd\n",
    "from tqdm import tqdm\n",
    "\n",
    "#Define the function\n",
    "def rpdb(gds_file:str = 'Tester_Pattern.gds', mesh:str = 'Test_Mesh.csv', target_layer:int = 0, LL:list=(-2,-2), UR:list=(383,491),output_file:str = 'Test RDP.gds'):\n",
    "    #gds is the input gds, and mesh is the matrix of data biasing to be applied, target_layer is the specific layer to be biased\n",
    "    #LL is the lower left corner of the layer to be edited that contains structures, UR is the upper right corner (in um)\n",
    "    #Will hardcode these for now for testing purposes\n",
    "\n",
    "    #Import the .gds\n",
    "    gds = pya.Layout()\n",
    "    gds.read(gds_file)\n",
    "    \n",
    "    #Sets the database units as 1nm\n",
    "    gds.dbu = 0.001\n",
    "\n",
    "    #Hard coding layer levels (this can be improved in the future...)\n",
    "    copy_lyr_index = 41\n",
    "    bias_lyr_index = 42\n",
    "    final_lyr_index = 43\n",
    "\n",
    "    #Create copy layer, copy structures over from the desired layer for biasing.\n",
    "    copy_lyr = gds.layer(copy_lyr_index,0,'Copy Layer')\n",
    "    gds.copy_layer(target_layer,copy_lyr)\n",
    "\n",
    "    #Create bias layer for eventual use\n",
    "    bias_lyr = gds.layer(bias_lyr_index,0,'Initial Biasing Layer')\n",
    "\n",
    "    #Create final bias layer\n",
    "    final_lyr = gds.layer(final_lyr_index,0,'Final Biased Layer')\n",
    "\n",
    "    #Import the mesh\n",
    "    pdb = pd.read_csv(mesh, index_col=0)\n",
    "    \n",
    "    #Determine mesh columns\n",
    "    col_len = len(pdb.columns)+1\n",
    "    columns = range(1,col_len)\n",
    "\n",
    "    #Determine mesh rows\n",
    "    row_len = len(pdb)+1\n",
    "    rows = range(1,row_len)\n",
    "\n",
    "    #Determine layer sizing\n",
    "    x_size = UR[0] - LL[0]\n",
    "    y_size = UR[1] - LL[1]\n",
    "\n",
    "    #Define size of meshing\n",
    "    mesh_x = x_size / (len(columns))\n",
    "    mesh_y = y_size / (len(rows))\n",
    "\n",
    "    #Calls the top cell (assumes(!) there is one top cell and it contains all the constituent cells)\n",
    "    top_cell = gds.top_cell()\n",
    "\n",
    "    #Loop across the mesh, define the regions in the copy layer to copy into the bias layer, then resize the features in the bias layer based on the mesh input\n",
    "    for i in tqdm(rows):\n",
    "        for j in columns:\n",
    "                #Define the edges of the mesh at each location\n",
    "                l_edge = LL[0]+mesh_x*(j-1)\n",
    "                b_edge = UR[1]-mesh_y*i\n",
    "                r_edge = LL[0]+mesh_x*j\n",
    "                t_edge = UR[1]-mesh_y*(i-1)\n",
    "\n",
    "                #Define the biasing at each location\n",
    "                new_j = str(j)\n",
    "                biasing = pdb[new_j][i]\n",
    "\n",
    "                #Takes polygons from the copy layer in a given search region to keep in the \"touching\" pya.Region \n",
    "                search_region = pya.DBox(l_edge,b_edge,r_edge,t_edge)\n",
    "                touching = pya.Region(top_cell.begin_shapes_rec_touching(copy_lyr, search_region))\n",
    "                top_cell.shapes(copy_lyr).insert(touching)\n",
    "\n",
    "                #Biases \"touching\" and copies it into the top cell in the bias layer\n",
    "                touch_up = touching.sized(int(biasing))\n",
    "                top_cell.shapes(bias_lyr).insert(touch_up)\n",
    "                \n",
    "    \n",
    "    print(\"Finished Mesh Loop\")\n",
    "\n",
    "    #Merges any overlapping polygons and places the final biased data onto the \"final\" layer\n",
    "    bias_merge = pya.Region(top_cell.begin_shapes_rec_touching(bias_lyr,pya.DBox(LL[0],LL[1],UR[0],UR[1])))\n",
    "    bias_merge.merge()\n",
    "    print(\"Finished bias merge\")\n",
    "    top_cell.shapes(final_lyr).insert(bias_merge)\n",
    "    \n",
    "    #Remove unnecessary layers\n",
    "    gds.delete_layer(bias_lyr)\n",
    "    print(\"Deleted bias layer\")\n",
    "    gds.delete_layer(copy_lyr)\n",
    "    print(\"Deleted copy layer\")\n",
    "\n",
    "    #Writes the new file\n",
    "    return gds.write(output_file)\n",
    "\n",
    "\n",
    "\n",
    "\n",
    "rpdb()\n",
    "\n"
   ]
  },
  {
   "cell_type": "code",
   "execution_count": null,
   "metadata": {},
   "outputs": [],
   "source": []
  }
 ],
 "metadata": {
  "kernelspec": {
   "display_name": "Python 3 (ipykernel)",
   "language": "python",
   "name": "python3"
  },
  "language_info": {
   "codemirror_mode": {
    "name": "ipython",
    "version": 3
   },
   "file_extension": ".py",
   "mimetype": "text/x-python",
   "name": "python",
   "nbconvert_exporter": "python",
   "pygments_lexer": "ipython3",
   "version": "3.10.11"
  }
 },
 "nbformat": 4,
 "nbformat_minor": 2
}
