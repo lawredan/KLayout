{
 "cells": [
  {
   "cell_type": "code",
   "execution_count": 3,
   "metadata": {},
   "outputs": [
    {
     "data": {
      "text/plain": [
       "<klayout.dbcore.Layout at 0x26b5e5c1970>"
      ]
     },
     "execution_count": 3,
     "metadata": {},
     "output_type": "execute_result"
    }
   ],
   "source": [
    "# Import the needed extensions\n",
    "import math\n",
    "import klayout\n",
    "import pya\n",
    "\n",
    "tone = input(\"(D)ark or (C)lear feature: \")\n",
    "size = int(input(\"Size (in nm) of the line: \"))\n",
    "pitch = int(input(\"Pitch (in nm): \"))\n",
    "length = int(input(\"Length of the line (in nm): \"))\n",
    "\n",
    "layout = pya.Layout()\n",
    "Unit = layout.create_cell(f\"LS_Array_{tone}_{size}_{pitch}\")\n",
    "\n",
    "l_outline = layout.layer(11,0) #overlay layer for the cell\n",
    "l_line = layout.layer(1,0) #line layer\n",
    "\n",
    "#Create the overlay shape\n",
    "overlay = Unit.shapes(l_outline).insert(pya.Box(0,0,length,length))\n",
    "\n",
    "#Check pitch of the LS array\n",
    "pitch_check = math.floor(length/pitch)\n",
    "if pitch_check < 3:\n",
    "    iso = True\n",
    "else:\n",
    "    iso = False\n",
    "\n",
    "#Create the LS array\n",
    "if iso:\n",
    "    line_vert = Unit.shapes(l_line).insert(pya.Box((length-size)/2,0,(length+size)/2,length))\n",
    "else:\n",
    "    for num in range(0,pitch_check,1):\n",
    "        line_vert = Unit.shapes(l_line).insert(pya.Box(num*pitch,0,num*pitch+size,length))\n",
    "\n",
    "#Export GDS\n",
    "layout.write(f\"LS_test_{tone}_{size}_{pitch}.gds\")\n"
   ]
  }
 ],
 "metadata": {
  "kernelspec": {
   "display_name": "Python 3",
   "language": "python",
   "name": "python3"
  },
  "language_info": {
   "codemirror_mode": {
    "name": "ipython",
    "version": 3
   },
   "file_extension": ".py",
   "mimetype": "text/x-python",
   "name": "python",
   "nbconvert_exporter": "python",
   "pygments_lexer": "ipython3",
   "version": "3.9.13"
  },
  "orig_nbformat": 4
 },
 "nbformat": 4,
 "nbformat_minor": 2
}
